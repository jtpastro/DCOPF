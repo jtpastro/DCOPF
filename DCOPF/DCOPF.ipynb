{
 "cells": [
  {
   "cell_type": "code",
   "execution_count": 1,
   "metadata": {},
   "outputs": [
    {
     "name": "stdout",
     "output_type": "stream",
     "text": [
      "Bibliotecas carregadas\n"
     ]
    }
   ],
   "source": [
    "import numpy as np \n",
    "import pandas as pd\n",
    "import openpyxl\n",
    "#import os\n",
    "from ortools.linear_solver import pywraplp\n",
    "print(\"Bibliotecas carregadas\")\n"
   ]
  },
  {
   "cell_type": "code",
   "execution_count": 11,
   "metadata": {},
   "outputs": [
    {
     "name": "stdout",
     "output_type": "stream",
     "text": [
      "    Original Bus #  Area  Rated kV  P-load  Q-load\n",
      "id                                                \n",
      "1              101     1       138     108      22\n",
      "2              102     1       138      97      20\n",
      "3              103     1       138     180      37\n",
      "4              104     1       138      74      15\n",
      "5              105     1       138      71      14\n",
      "6              106     1       138     136      28\n",
      "7              107     1       138     125      25\n",
      "8              108     1       138     171      35\n",
      "9              109     1       138     175      36\n",
      "10             110     1       138     195      40\n",
      "11             111     1       230       0       0\n",
      "12             112     1       230       0       0\n",
      "13             113     1       230     265      54\n",
      "14             114     1       230     194      39\n",
      "15             115     1       230     317      64\n",
      "16             116     1       230     100      20\n",
      "17             117     1       230       0       0\n",
      "18             118     1       230     333      68\n",
      "19             119     1       230     181      37\n",
      "20             120     1       230     128      26\n",
      "21             121     1       230       0       0\n",
      "22             122     1       230       0       0\n",
      "23             123     1       230       0       0\n",
      "24             124     1       230       0       0\n"
     ]
    }
   ],
   "source": [
    "def read_data(DataFile):\n",
    "    xlsLoad = pd.ExcelFile(DataFile)\n",
    "    Bus = pd.read_excel(xlsLoad, 'bus').set_index('id')\n",
    "    Gen = pd.read_excel(xlsLoad, 'gen').set_index('id')\n",
    "    Line = pd.read_excel(xlsLoad, 'line').set_index('id')\n",
    "    #id should be a column with unique information. \n",
    "    \n",
    "    return Bus, Gen, Line\n",
    "\n",
    "print(read_data('RTS_Data.xlsx')[0])"
   ]
  },
  {
   "cell_type": "code",
   "execution_count": null,
   "metadata": {},
   "outputs": [],
   "source": [
    "def DCOPF(Bus, Gen, Line):\n",
    "    # define a pyomo model\n",
    "    solver = pywraplp.Solver('simple_lp_program', pywraplp.Solver.GLOP_LINEAR_PROGRAMMING)\n",
    "    N=Bus.index\n",
    "    G=Gen.index\n",
    "    K=Line.index\n",
    "    \n",
    "    # \n",
    "    p = [solver.NumVar(lb=0, ub=solver.infinity) for _ in G]\n",
    "    f = [solver.NumVar(lb=0, ub=solver.infinity) for _ in K]\n",
    "    theta = [solver.NumVar(lb=0, ub=solver.infinity) for _ in N]\n",
    "    \n",
    "    # Define the objective function\n",
    "    objective = solver.objective()\n",
    "    for g in G:\n",
    "        objective.SetCoefficient(p[g], Gen.loc[g, 'vCost1'])\n",
    "    \n",
    "    # define model constraints\n",
    "    model.gen_max = ConstraintList()\n",
    "    model.flow = ConstraintList()\n",
    "    model.flow_max = ConstraintList()\n",
    "    model.node_balance = ConstraintList()\n",
    "    model.slack=ConstraintList()\n",
    "    \n",
    "    # Add the constraints to the model\n",
    "      \n",
    "    # Generation maximum Limits:\n",
    "    for g in G:\n",
    "        model.gen_max.add(model.p[g]<=Gen.loc[g,'CapHigh'])\n",
    "    \n",
    "    # Power flow equations and limits\n",
    "    for k in K:\n",
    "        model.flow.add(model.f[k]==Line.loc[k,'B_dc (MW)']*\n",
    "                       (model.theta[Line.loc[k,'from']]-model.theta[Line.loc[k,'to']]))\n",
    "        model.flow_max.add(model.f[k]<=Line.loc[k,'CAPA'])\n",
    "        model.flow_max.add(model.f[k]>=-Line.loc[k,'CAPA'])\n",
    "    \n",
    "    # Slack bus constraint\n",
    "    model.slack.add(model.theta[1]==0)\n",
    "    \n",
    "    # Node balance constraints\n",
    "    \n",
    "    for n in N:\n",
    "        demand = Bus.loc[n,'P-load']\n",
    "        inflow = 0\n",
    "        outflow = 0\n",
    "        localgen = 0\n",
    "        for k in K:\n",
    "            if Line.loc[k,'to']==n:\n",
    "                inflow += model.f[k]\n",
    "            if Line.loc[k,'from']==n:\n",
    "                outflow += model.f[k]\n",
    "        for g in G:\n",
    "            if Gen.loc[g,'node']==n:\n",
    "                localgen += model.p[g]\n",
    "        model.node_balance.add(localgen+inflow-outflow==demand)\n",
    "    return model\n",
    "    \n",
    "                \n",
    "\n",
    "\n"
   ]
  },
  {
   "cell_type": "code",
   "execution_count": 6,
   "metadata": {
    "scrolled": true
   },
   "outputs": [
    {
     "name": "stdout",
     "output_type": "stream",
     "text": [
      "Data was read successfully.\n",
      "Construction of model complete.\n",
      "WARNING: Could not locate the 'glpsol' executable, which is required for\n",
      "    solver 'glpk'\n"
     ]
    },
    {
     "ename": "ApplicationError",
     "evalue": "No executable found for solver 'glpk'",
     "output_type": "error",
     "traceback": [
      "\u001b[0;31m---------------------------------------------------------------------------\u001b[0m",
      "\u001b[0;31mApplicationError\u001b[0m                          Traceback (most recent call last)",
      "Input \u001b[0;32mIn [6]\u001b[0m, in \u001b[0;36m<cell line: 22>\u001b[0;34m()\u001b[0m\n\u001b[1;32m     19\u001b[0m model\u001b[38;5;241m.\u001b[39mdual \u001b[38;5;241m=\u001b[39m Suffix(direction\u001b[38;5;241m=\u001b[39mSuffix\u001b[38;5;241m.\u001b[39mIMPORT)\n\u001b[1;32m     21\u001b[0m \u001b[38;5;66;03m# Solve the problem\u001b[39;00m\n\u001b[0;32m---> 22\u001b[0m Solution\u001b[38;5;241m=\u001b[39m\u001b[43mopt\u001b[49m\u001b[38;5;241;43m.\u001b[39;49m\u001b[43msolve\u001b[49m\u001b[43m(\u001b[49m\u001b[43mmodel\u001b[49m\u001b[43m)\u001b[49m\n\u001b[1;32m     24\u001b[0m \u001b[38;5;66;03m# Report the summary of solve\u001b[39;00m\n\u001b[1;32m     25\u001b[0m Solution\u001b[38;5;241m.\u001b[39mwrite(num\u001b[38;5;241m=\u001b[39m\u001b[38;5;241m1\u001b[39m)\n",
      "File \u001b[0;32m/usr/local/lib/python3.9/site-packages/pyomo/opt/base/solvers.py:512\u001b[0m, in \u001b[0;36mOptSolver.solve\u001b[0;34m(self, *args, **kwds)\u001b[0m\n\u001b[1;32m    509\u001b[0m \u001b[38;5;28;01mdef\u001b[39;00m \u001b[38;5;21msolve\u001b[39m(\u001b[38;5;28mself\u001b[39m, \u001b[38;5;241m*\u001b[39margs, \u001b[38;5;241m*\u001b[39m\u001b[38;5;241m*\u001b[39mkwds):\n\u001b[1;32m    510\u001b[0m     \u001b[38;5;124;03m\"\"\" Solve the problem \"\"\"\u001b[39;00m\n\u001b[0;32m--> 512\u001b[0m     \u001b[38;5;28;43mself\u001b[39;49m\u001b[38;5;241;43m.\u001b[39;49m\u001b[43mavailable\u001b[49m\u001b[43m(\u001b[49m\u001b[43mexception_flag\u001b[49m\u001b[38;5;241;43m=\u001b[39;49m\u001b[38;5;28;43;01mTrue\u001b[39;49;00m\u001b[43m)\u001b[49m\n\u001b[1;32m    513\u001b[0m     \u001b[38;5;66;03m#\u001b[39;00m\n\u001b[1;32m    514\u001b[0m     \u001b[38;5;66;03m# If the inputs are models, then validate that they have been\u001b[39;00m\n\u001b[1;32m    515\u001b[0m     \u001b[38;5;66;03m# constructed! Collect suffix names to try and import from solution.\u001b[39;00m\n\u001b[1;32m    516\u001b[0m     \u001b[38;5;66;03m#\u001b[39;00m\n\u001b[1;32m    517\u001b[0m     \u001b[38;5;28;01mfrom\u001b[39;00m \u001b[38;5;21;01mpyomo\u001b[39;00m\u001b[38;5;21;01m.\u001b[39;00m\u001b[38;5;21;01mcore\u001b[39;00m\u001b[38;5;21;01m.\u001b[39;00m\u001b[38;5;21;01mbase\u001b[39;00m\u001b[38;5;21;01m.\u001b[39;00m\u001b[38;5;21;01mblock\u001b[39;00m \u001b[38;5;28;01mimport\u001b[39;00m _BlockData\n",
      "File \u001b[0;32m/usr/local/lib/python3.9/site-packages/pyomo/opt/solver/shellcmd.py:128\u001b[0m, in \u001b[0;36mSystemCallSolver.available\u001b[0;34m(self, exception_flag)\u001b[0m\n\u001b[1;32m    126\u001b[0m     \u001b[38;5;28;01mif\u001b[39;00m exception_flag:\n\u001b[1;32m    127\u001b[0m         msg \u001b[38;5;241m=\u001b[39m \u001b[38;5;124m\"\u001b[39m\u001b[38;5;124mNo executable found for solver \u001b[39m\u001b[38;5;124m'\u001b[39m\u001b[38;5;132;01m%s\u001b[39;00m\u001b[38;5;124m'\u001b[39m\u001b[38;5;124m\"\u001b[39m\n\u001b[0;32m--> 128\u001b[0m         \u001b[38;5;28;01mraise\u001b[39;00m ApplicationError(msg \u001b[38;5;241m%\u001b[39m \u001b[38;5;28mself\u001b[39m\u001b[38;5;241m.\u001b[39mname)\n\u001b[1;32m    129\u001b[0m     \u001b[38;5;28;01mreturn\u001b[39;00m \u001b[38;5;28;01mFalse\u001b[39;00m\n\u001b[1;32m    130\u001b[0m \u001b[38;5;28;01mreturn\u001b[39;00m \u001b[38;5;28;01mTrue\u001b[39;00m\n",
      "\u001b[0;31mApplicationError\u001b[0m: No executable found for solver 'glpk'"
     ]
    }
   ],
   "source": [
    "# Read Data\n",
    "#print(os.getcwd())\n",
    "Bus, Gen, Line = read_data('RTS_Data.xlsx')\n",
    "print(\"Data was read successfully.\")\n",
    "N=Bus.index\n",
    "G=Gen.index\n",
    "K=Line.index\n",
    "\n",
    "# Construct Model\n",
    "model = DCOPF(Bus, Gen, Line)\n",
    "print(\"Construction of model complete.\")\n",
    "\n",
    "# Solving steps\n",
    "\n",
    "# Identify the solver\n",
    "opt = SolverFactory('glpk')\n",
    "\n",
    "# Tell the model that you need the dual values too!\n",
    "model.dual = Suffix(direction=Suffix.IMPORT)\n",
    "\n",
    "# Solve the problem\n",
    "Solution=opt.solve(model)\n",
    "\n",
    "# Report the summary of solve\n",
    "Solution.write(num=1)\n",
    "\n",
    "# Report the output\n",
    "for g in G:\n",
    "    print('Generator ',g,'Output (MW):', model.p[g].value)\n",
    "    \n",
    "for k in K:\n",
    "    print('Line ',k,'Flow (MW):', model.f[k].value)\n",
    "\n",
    "for n in N:\n",
    "    print('LMP for node ', n, 'in ($/MWh) is: ', model.dual[model.node_balance[n]])\n",
    "    \n",
    "for k in K:\n",
    "    print('Flowgate price for line', k, 'in ($/MWh) in both directions are: '\n",
    "          , model.dual[model.flow_max[2*k-1]],' and ', model.dual[model.flow_max[2*k]])\n"
   ]
  },
  {
   "cell_type": "code",
   "execution_count": null,
   "metadata": {},
   "outputs": [],
   "source": []
  }
 ],
 "metadata": {
  "kernelspec": {
   "display_name": "Python 3 (ipykernel)",
   "language": "python",
   "name": "python3"
  },
  "language_info": {
   "codemirror_mode": {
    "name": "ipython",
    "version": 3
   },
   "file_extension": ".py",
   "mimetype": "text/x-python",
   "name": "python",
   "nbconvert_exporter": "python",
   "pygments_lexer": "ipython3",
   "version": "3.9.12"
  }
 },
 "nbformat": 4,
 "nbformat_minor": 4
}
